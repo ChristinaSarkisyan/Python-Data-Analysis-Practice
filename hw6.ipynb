{
 "cells": [
  {
   "cell_type": "code",
   "execution_count": 1,
   "metadata": {
    "deletable": false,
    "editable": false
   },
   "outputs": [],
   "source": [
    "# Initialize Otter\n",
    "import otter\n",
    "grader = otter.Notebook(\"hw6.ipynb\")"
   ]
  },
  {
   "cell_type": "markdown",
   "metadata": {},
   "source": [
    "# Homework 6\n",
    "\n",
    "\n",
    "This notebook contains Python problems you need to complete. Write your codes directly here.  Save your code and upload this file to [Gradescope](https://www.gradescope.com).  You do not have to export your solution to a zip file (Don't need to run the last cell.).  Simply upload \"hw6.ipynb\".\n",
    "\n",
    "You also need the data files \"LoanDataOriginal.csv\" and \"covid_all.csv\".  So, make sure they are in the *same* folder where this file is.\n",
    "\n",
    "In this assignment, you may see some tests are hidden.  So, you may not get the full credit points if your code is not fully implemented as specified. "
   ]
  },
  {
   "cell_type": "code",
   "execution_count": 2,
   "metadata": {},
   "outputs": [
    {
     "data": {
      "text/plain": [
       "'C:\\\\Users\\\\chris\\\\Desktop\\\\student-hw6\\\\student'"
      ]
     },
     "execution_count": 2,
     "metadata": {},
     "output_type": "execute_result"
    }
   ],
   "source": [
    "# This will tell you what your working directory is\n",
    "%pwd"
   ]
  },
  {
   "cell_type": "code",
   "execution_count": 3,
   "metadata": {},
   "outputs": [
    {
     "name": "stdout",
     "output_type": "stream",
     "text": [
      " Volume in drive C is Windows\n",
      " Volume Serial Number is F8FD-8A6F\n",
      "\n",
      " Directory of C:\\Users\\chris\\Desktop\\student-hw6\\student\n",
      "\n",
      "05/03/2021  06:49 PM    <DIR>          .\n",
      "05/03/2021  06:49 PM    <DIR>          ..\n",
      "05/02/2021  10:56 PM    <DIR>          .ipynb_checkpoints\n",
      "05/03/2021  06:50 PM           153,205 .OTTER_LOG\n",
      "05/02/2021  10:55 PM         4,324,257 covid_all.csv\n",
      "05/03/2021  06:49 PM           387,311 hw6.ipynb\n",
      "05/02/2021  10:55 PM        14,556,261 LoanDataOriginal.csv\n",
      "05/02/2021  10:55 PM    <DIR>          tests\n",
      "               4 File(s)     19,421,034 bytes\n",
      "               4 Dir(s)  865,382,993,920 bytes free\n"
     ]
    }
   ],
   "source": [
    "# If you do not see LoanDataOriginal.csv and covid_all.csv, you need to use %cd '***The correct directory path***'\n",
    "%ls"
   ]
  },
  {
   "cell_type": "markdown",
   "metadata": {},
   "source": [
    "### Data Manipulation with Pandas"
   ]
  },
  {
   "cell_type": "code",
   "execution_count": 4,
   "metadata": {},
   "outputs": [],
   "source": [
    "# import numpy and pandas\n",
    "import numpy as np\n",
    "import pandas as pd"
   ]
  },
  {
   "cell_type": "code",
   "execution_count": 5,
   "metadata": {},
   "outputs": [
    {
     "data": {
      "text/html": [
       "<div>\n",
       "<style scoped>\n",
       "    .dataframe tbody tr th:only-of-type {\n",
       "        vertical-align: middle;\n",
       "    }\n",
       "\n",
       "    .dataframe tbody tr th {\n",
       "        vertical-align: top;\n",
       "    }\n",
       "\n",
       "    .dataframe thead th {\n",
       "        text-align: right;\n",
       "    }\n",
       "</style>\n",
       "<table border=\"1\" class=\"dataframe\">\n",
       "  <thead>\n",
       "    <tr style=\"text-align: right;\">\n",
       "      <th></th>\n",
       "      <th>LoanID</th>\n",
       "      <th>CustomerID</th>\n",
       "      <th>LoanStatus</th>\n",
       "      <th>CurrentLoanAmount</th>\n",
       "      <th>Term</th>\n",
       "      <th>CreditScore</th>\n",
       "      <th>Income</th>\n",
       "      <th>MonthlyDebt</th>\n",
       "      <th>YearsCreditHistory</th>\n",
       "      <th>OpenAccounts</th>\n",
       "      <th>CreditProblems</th>\n",
       "      <th>CurrentCredit</th>\n",
       "      <th>MaximumCredit</th>\n",
       "    </tr>\n",
       "  </thead>\n",
       "  <tbody>\n",
       "    <tr>\n",
       "      <th>0</th>\n",
       "      <td>14dd8831-6af5-400b-83ec-68e61888a048</td>\n",
       "      <td>981165ec-3274-42f5-a3b4-d104041a9ca9</td>\n",
       "      <td>Fully Paid</td>\n",
       "      <td>445412</td>\n",
       "      <td>Short Term</td>\n",
       "      <td>709.0</td>\n",
       "      <td>1167493.0</td>\n",
       "      <td>5214.74</td>\n",
       "      <td>17.2</td>\n",
       "      <td>6</td>\n",
       "      <td>1</td>\n",
       "      <td>228190</td>\n",
       "      <td>416746.0</td>\n",
       "    </tr>\n",
       "    <tr>\n",
       "      <th>1</th>\n",
       "      <td>4771cc26-131a-45db-b5aa-537ea4ba5342</td>\n",
       "      <td>2de017a3-2e01-49cb-a581-08169e83be29</td>\n",
       "      <td>Fully Paid</td>\n",
       "      <td>262328</td>\n",
       "      <td>Short Term</td>\n",
       "      <td>NaN</td>\n",
       "      <td>NaN</td>\n",
       "      <td>33295.98</td>\n",
       "      <td>21.1</td>\n",
       "      <td>35</td>\n",
       "      <td>0</td>\n",
       "      <td>229976</td>\n",
       "      <td>850784.0</td>\n",
       "    </tr>\n",
       "    <tr>\n",
       "      <th>2</th>\n",
       "      <td>4eed4e6a-aa2f-4c91-8651-ce984ee8fb26</td>\n",
       "      <td>5efb2b2b-bf11-4dfd-a572-3761a2694725</td>\n",
       "      <td>Fully Paid</td>\n",
       "      <td>99999999</td>\n",
       "      <td>Short Term</td>\n",
       "      <td>741.0</td>\n",
       "      <td>2231892.0</td>\n",
       "      <td>29200.53</td>\n",
       "      <td>14.9</td>\n",
       "      <td>18</td>\n",
       "      <td>1</td>\n",
       "      <td>297996</td>\n",
       "      <td>750090.0</td>\n",
       "    </tr>\n",
       "    <tr>\n",
       "      <th>3</th>\n",
       "      <td>77598f7b-32e7-4e3b-a6e5-06ba0d98fe8a</td>\n",
       "      <td>e777faab-98ae-45af-9a86-7ce5b33b1011</td>\n",
       "      <td>Fully Paid</td>\n",
       "      <td>347666</td>\n",
       "      <td>Long Term</td>\n",
       "      <td>721.0</td>\n",
       "      <td>806949.0</td>\n",
       "      <td>8741.90</td>\n",
       "      <td>12.0</td>\n",
       "      <td>9</td>\n",
       "      <td>0</td>\n",
       "      <td>256329</td>\n",
       "      <td>386958.0</td>\n",
       "    </tr>\n",
       "    <tr>\n",
       "      <th>4</th>\n",
       "      <td>d4062e70-befa-4995-8643-a0de73938182</td>\n",
       "      <td>81536ad9-5ccf-4eb8-befb-47a4d608658e</td>\n",
       "      <td>Fully Paid</td>\n",
       "      <td>176220</td>\n",
       "      <td>Short Term</td>\n",
       "      <td>NaN</td>\n",
       "      <td>NaN</td>\n",
       "      <td>20639.70</td>\n",
       "      <td>6.1</td>\n",
       "      <td>15</td>\n",
       "      <td>0</td>\n",
       "      <td>253460</td>\n",
       "      <td>427174.0</td>\n",
       "    </tr>\n",
       "  </tbody>\n",
       "</table>\n",
       "</div>"
      ],
      "text/plain": [
       "                                 LoanID                            CustomerID  \\\n",
       "0  14dd8831-6af5-400b-83ec-68e61888a048  981165ec-3274-42f5-a3b4-d104041a9ca9   \n",
       "1  4771cc26-131a-45db-b5aa-537ea4ba5342  2de017a3-2e01-49cb-a581-08169e83be29   \n",
       "2  4eed4e6a-aa2f-4c91-8651-ce984ee8fb26  5efb2b2b-bf11-4dfd-a572-3761a2694725   \n",
       "3  77598f7b-32e7-4e3b-a6e5-06ba0d98fe8a  e777faab-98ae-45af-9a86-7ce5b33b1011   \n",
       "4  d4062e70-befa-4995-8643-a0de73938182  81536ad9-5ccf-4eb8-befb-47a4d608658e   \n",
       "\n",
       "   LoanStatus  CurrentLoanAmount        Term  CreditScore     Income  \\\n",
       "0  Fully Paid             445412  Short Term        709.0  1167493.0   \n",
       "1  Fully Paid             262328  Short Term          NaN        NaN   \n",
       "2  Fully Paid           99999999  Short Term        741.0  2231892.0   \n",
       "3  Fully Paid             347666   Long Term        721.0   806949.0   \n",
       "4  Fully Paid             176220  Short Term          NaN        NaN   \n",
       "\n",
       "   MonthlyDebt  YearsCreditHistory  OpenAccounts  CreditProblems  \\\n",
       "0      5214.74                17.2             6               1   \n",
       "1     33295.98                21.1            35               0   \n",
       "2     29200.53                14.9            18               1   \n",
       "3      8741.90                12.0             9               0   \n",
       "4     20639.70                 6.1            15               0   \n",
       "\n",
       "   CurrentCredit  MaximumCredit  \n",
       "0         228190       416746.0  \n",
       "1         229976       850784.0  \n",
       "2         297996       750090.0  \n",
       "3         256329       386958.0  \n",
       "4         253460       427174.0  "
      ]
     },
     "execution_count": 5,
     "metadata": {},
     "output_type": "execute_result"
    }
   ],
   "source": [
    "# Import the file as DataFrame object and assign it to loans. \n",
    "# The index column will be generated automatrically.\n",
    "loans=pd.read_csv(\"LoanDataOriginal.csv\")\n",
    "loans.head()"
   ]
  },
  {
   "cell_type": "code",
   "execution_count": 6,
   "metadata": {},
   "outputs": [
    {
     "name": "stdout",
     "output_type": "stream",
     "text": [
      "<class 'pandas.core.frame.DataFrame'>\n",
      "RangeIndex: 100000 entries, 0 to 99999\n",
      "Data columns (total 13 columns):\n",
      " #   Column              Non-Null Count   Dtype  \n",
      "---  ------              --------------   -----  \n",
      " 0   LoanID              100000 non-null  object \n",
      " 1   CustomerID          100000 non-null  object \n",
      " 2   LoanStatus          100000 non-null  object \n",
      " 3   CurrentLoanAmount   100000 non-null  int64  \n",
      " 4   Term                100000 non-null  object \n",
      " 5   CreditScore         80846 non-null   float64\n",
      " 6   Income              80846 non-null   float64\n",
      " 7   MonthlyDebt         100000 non-null  float64\n",
      " 8   YearsCreditHistory  100000 non-null  float64\n",
      " 9   OpenAccounts        100000 non-null  int64  \n",
      " 10  CreditProblems      100000 non-null  int64  \n",
      " 11  CurrentCredit       100000 non-null  int64  \n",
      " 12  MaximumCredit       99998 non-null   float64\n",
      "dtypes: float64(5), int64(4), object(4)\n",
      "memory usage: 9.9+ MB\n"
     ]
    }
   ],
   "source": [
    "# Check the structure of loans DataFrame object.\n",
    "loans.info()"
   ]
  },
  {
   "cell_type": "code",
   "execution_count": 7,
   "metadata": {},
   "outputs": [
    {
     "data": {
      "text/html": [
       "<div>\n",
       "<style scoped>\n",
       "    .dataframe tbody tr th:only-of-type {\n",
       "        vertical-align: middle;\n",
       "    }\n",
       "\n",
       "    .dataframe tbody tr th {\n",
       "        vertical-align: top;\n",
       "    }\n",
       "\n",
       "    .dataframe thead th {\n",
       "        text-align: right;\n",
       "    }\n",
       "</style>\n",
       "<table border=\"1\" class=\"dataframe\">\n",
       "  <thead>\n",
       "    <tr style=\"text-align: right;\">\n",
       "      <th></th>\n",
       "      <th>CurrentLoanAmount</th>\n",
       "      <th>CreditScore</th>\n",
       "      <th>Income</th>\n",
       "      <th>MonthlyDebt</th>\n",
       "      <th>YearsCreditHistory</th>\n",
       "      <th>OpenAccounts</th>\n",
       "      <th>CreditProblems</th>\n",
       "      <th>CurrentCredit</th>\n",
       "      <th>MaximumCredit</th>\n",
       "    </tr>\n",
       "  </thead>\n",
       "  <tbody>\n",
       "    <tr>\n",
       "      <th>count</th>\n",
       "      <td>1.000000e+05</td>\n",
       "      <td>80846.000000</td>\n",
       "      <td>8.084600e+04</td>\n",
       "      <td>100000.000000</td>\n",
       "      <td>100000.000000</td>\n",
       "      <td>100000.00000</td>\n",
       "      <td>100000.000000</td>\n",
       "      <td>1.000000e+05</td>\n",
       "      <td>9.999800e+04</td>\n",
       "    </tr>\n",
       "    <tr>\n",
       "      <th>mean</th>\n",
       "      <td>1.176045e+07</td>\n",
       "      <td>1076.456089</td>\n",
       "      <td>1.378277e+06</td>\n",
       "      <td>18472.412336</td>\n",
       "      <td>18.199141</td>\n",
       "      <td>11.12853</td>\n",
       "      <td>0.168310</td>\n",
       "      <td>2.946374e+05</td>\n",
       "      <td>7.607984e+05</td>\n",
       "    </tr>\n",
       "    <tr>\n",
       "      <th>std</th>\n",
       "      <td>3.178394e+07</td>\n",
       "      <td>1475.403791</td>\n",
       "      <td>1.081360e+06</td>\n",
       "      <td>12174.992609</td>\n",
       "      <td>7.015324</td>\n",
       "      <td>5.00987</td>\n",
       "      <td>0.482705</td>\n",
       "      <td>3.761709e+05</td>\n",
       "      <td>8.384503e+06</td>\n",
       "    </tr>\n",
       "    <tr>\n",
       "      <th>min</th>\n",
       "      <td>1.080200e+04</td>\n",
       "      <td>585.000000</td>\n",
       "      <td>7.662700e+04</td>\n",
       "      <td>0.000000</td>\n",
       "      <td>3.600000</td>\n",
       "      <td>0.00000</td>\n",
       "      <td>0.000000</td>\n",
       "      <td>0.000000e+00</td>\n",
       "      <td>0.000000e+00</td>\n",
       "    </tr>\n",
       "    <tr>\n",
       "      <th>25%</th>\n",
       "      <td>1.796520e+05</td>\n",
       "      <td>705.000000</td>\n",
       "      <td>8.488440e+05</td>\n",
       "      <td>10214.162500</td>\n",
       "      <td>13.500000</td>\n",
       "      <td>8.00000</td>\n",
       "      <td>0.000000</td>\n",
       "      <td>1.126700e+05</td>\n",
       "      <td>2.734380e+05</td>\n",
       "    </tr>\n",
       "    <tr>\n",
       "      <th>50%</th>\n",
       "      <td>3.122460e+05</td>\n",
       "      <td>724.000000</td>\n",
       "      <td>1.174162e+06</td>\n",
       "      <td>16220.300000</td>\n",
       "      <td>16.900000</td>\n",
       "      <td>10.00000</td>\n",
       "      <td>0.000000</td>\n",
       "      <td>2.098170e+05</td>\n",
       "      <td>4.678740e+05</td>\n",
       "    </tr>\n",
       "    <tr>\n",
       "      <th>75%</th>\n",
       "      <td>5.249420e+05</td>\n",
       "      <td>741.000000</td>\n",
       "      <td>1.650663e+06</td>\n",
       "      <td>24012.057500</td>\n",
       "      <td>21.700000</td>\n",
       "      <td>14.00000</td>\n",
       "      <td>0.000000</td>\n",
       "      <td>3.679588e+05</td>\n",
       "      <td>7.829580e+05</td>\n",
       "    </tr>\n",
       "    <tr>\n",
       "      <th>max</th>\n",
       "      <td>1.000000e+08</td>\n",
       "      <td>7510.000000</td>\n",
       "      <td>1.655574e+08</td>\n",
       "      <td>435843.280000</td>\n",
       "      <td>70.500000</td>\n",
       "      <td>76.00000</td>\n",
       "      <td>15.000000</td>\n",
       "      <td>3.287897e+07</td>\n",
       "      <td>1.539738e+09</td>\n",
       "    </tr>\n",
       "  </tbody>\n",
       "</table>\n",
       "</div>"
      ],
      "text/plain": [
       "       CurrentLoanAmount   CreditScore        Income    MonthlyDebt  \\\n",
       "count       1.000000e+05  80846.000000  8.084600e+04  100000.000000   \n",
       "mean        1.176045e+07   1076.456089  1.378277e+06   18472.412336   \n",
       "std         3.178394e+07   1475.403791  1.081360e+06   12174.992609   \n",
       "min         1.080200e+04    585.000000  7.662700e+04       0.000000   \n",
       "25%         1.796520e+05    705.000000  8.488440e+05   10214.162500   \n",
       "50%         3.122460e+05    724.000000  1.174162e+06   16220.300000   \n",
       "75%         5.249420e+05    741.000000  1.650663e+06   24012.057500   \n",
       "max         1.000000e+08   7510.000000  1.655574e+08  435843.280000   \n",
       "\n",
       "       YearsCreditHistory  OpenAccounts  CreditProblems  CurrentCredit  \\\n",
       "count       100000.000000  100000.00000   100000.000000   1.000000e+05   \n",
       "mean            18.199141      11.12853        0.168310   2.946374e+05   \n",
       "std              7.015324       5.00987        0.482705   3.761709e+05   \n",
       "min              3.600000       0.00000        0.000000   0.000000e+00   \n",
       "25%             13.500000       8.00000        0.000000   1.126700e+05   \n",
       "50%             16.900000      10.00000        0.000000   2.098170e+05   \n",
       "75%             21.700000      14.00000        0.000000   3.679588e+05   \n",
       "max             70.500000      76.00000       15.000000   3.287897e+07   \n",
       "\n",
       "       MaximumCredit  \n",
       "count   9.999800e+04  \n",
       "mean    7.607984e+05  \n",
       "std     8.384503e+06  \n",
       "min     0.000000e+00  \n",
       "25%     2.734380e+05  \n",
       "50%     4.678740e+05  \n",
       "75%     7.829580e+05  \n",
       "max     1.539738e+09  "
      ]
     },
     "execution_count": 7,
     "metadata": {},
     "output_type": "execute_result"
    }
   ],
   "source": [
    "# Descriptive statistics of loans\n",
    "loans.describe()"
   ]
  },
  {
   "cell_type": "markdown",
   "metadata": {
    "deletable": false,
    "editable": false
   },
   "source": [
    "**Question 1 (1pt):** After reading \"LoanDataOriginal.csv\" as a pandas.core.frame.DataFrame object named loan (already coded above), change the data type of `LoanStatus` as `category`. Refer to the pandas documentation for the [category](https://pandas.pydata.org/pandas-docs/stable/user_guide/categorical.html) data type and check out the examples. \n",
    "\n",
    "<!--\n",
    "BEGIN QUESTION\n",
    "name: q1\n",
    "points:\n",
    "    - 1    \n",
    "-->"
   ]
  },
  {
   "cell_type": "code",
   "execution_count": 8,
   "metadata": {},
   "outputs": [
    {
     "name": "stdout",
     "output_type": "stream",
     "text": [
      "category\n"
     ]
    },
    {
     "data": {
      "text/plain": [
       "CategoricalDtype(categories=['Charged Off', 'Fully Paid'], ordered=False)"
      ]
     },
     "execution_count": 8,
     "metadata": {},
     "output_type": "execute_result"
    }
   ],
   "source": [
    "loans['LoanStatus'] = loans['LoanStatus'].astype(\"category\")\n",
    "\n",
    "# See if LoanStatus has the correct dtype\n",
    "print(loans['LoanStatus'].dtype)\n",
    "loans['LoanStatus'].dtype"
   ]
  },
  {
   "cell_type": "code",
   "execution_count": 9,
   "metadata": {
    "deletable": false,
    "editable": false
   },
   "outputs": [
    {
     "data": {
      "text/html": [
       "\n",
       "    <p><strong>q1</strong> passed!</p>\n",
       "    "
      ],
      "text/plain": [
       "q1 passed!"
      ]
     },
     "execution_count": 9,
     "metadata": {},
     "output_type": "execute_result"
    }
   ],
   "source": [
    "grader.check(\"q1\")"
   ]
  },
  {
   "cell_type": "markdown",
   "metadata": {
    "deletable": false,
    "editable": false
   },
   "source": [
    "**Question 2 (4pts):** \n",
    "- Replace all values of `99999999` in `CurrentLoanAmount` with `NaN`.  That is, assign `np.NaN` to all items in column `CurrentLoanAmount` that satisfies the condition `loans['CurrentLoanAmount']==99999999`. \n",
    "- Rename the column name of `CurrentLoanAmount` to `LoanAmount` and that of `CurrentCredit` to `Credit`.\n",
    "- Take the average of `LoanAmount` and store it in a variable named `avg_loan`.  The `np.mean()` function or Series object's `mean()` method will ignore the NaNs.\n",
    "- Replace all NaNs in `LoanAmount` with `avg_loan`. \n",
    "\n",
    "<!--\n",
    "BEGIN QUESTION\n",
    "name: q2\n",
    "points:\n",
    "    each: 1\n",
    "-->"
   ]
  },
  {
   "cell_type": "code",
   "execution_count": 10,
   "metadata": {},
   "outputs": [
    {
     "name": "stdout",
     "output_type": "stream",
     "text": [
      "before:\n",
      "                                  LoanID                            CustomerID  \\\n",
      "0  14dd8831-6af5-400b-83ec-68e61888a048  981165ec-3274-42f5-a3b4-d104041a9ca9   \n",
      "1  4771cc26-131a-45db-b5aa-537ea4ba5342  2de017a3-2e01-49cb-a581-08169e83be29   \n",
      "2  4eed4e6a-aa2f-4c91-8651-ce984ee8fb26  5efb2b2b-bf11-4dfd-a572-3761a2694725   \n",
      "\n",
      "   LoanStatus  CurrentLoanAmount        Term  CreditScore     Income  \\\n",
      "0  Fully Paid             445412  Short Term        709.0  1167493.0   \n",
      "1  Fully Paid             262328  Short Term          NaN        NaN   \n",
      "2  Fully Paid           99999999  Short Term        741.0  2231892.0   \n",
      "\n",
      "   MonthlyDebt  YearsCreditHistory  OpenAccounts  CreditProblems  \\\n",
      "0      5214.74                17.2             6               1   \n",
      "1     33295.98                21.1            35               0   \n",
      "2     29200.53                14.9            18               1   \n",
      "\n",
      "   CurrentCredit  MaximumCredit  \n",
      "0         228190       416746.0  \n",
      "1         229976       850784.0  \n",
      "2         297996       750090.0  \n",
      "columns:\n",
      " Index(['LoanID', 'CustomerID', 'LoanStatus', 'CurrentLoanAmount', 'Term',\n",
      "       'CreditScore', 'Income', 'MonthlyDebt', 'YearsCreditHistory',\n",
      "       'OpenAccounts', 'CreditProblems', 'CurrentCredit', 'MaximumCredit'],\n",
      "      dtype='object') __________________________________\n",
      "\n",
      "after\n",
      "                                  LoanID                            CustomerID  \\\n",
      "0  14dd8831-6af5-400b-83ec-68e61888a048  981165ec-3274-42f5-a3b4-d104041a9ca9   \n",
      "1  4771cc26-131a-45db-b5aa-537ea4ba5342  2de017a3-2e01-49cb-a581-08169e83be29   \n",
      "2  4eed4e6a-aa2f-4c91-8651-ce984ee8fb26  5efb2b2b-bf11-4dfd-a572-3761a2694725   \n",
      "\n",
      "   LoanStatus  LoanAmount        Term  CreditScore     Income  MonthlyDebt  \\\n",
      "0  Fully Paid    445412.0  Short Term        709.0  1167493.0      5214.74   \n",
      "1  Fully Paid    262328.0  Short Term          NaN        NaN     33295.98   \n",
      "2  Fully Paid         NaN  Short Term        741.0  2231892.0     29200.53   \n",
      "\n",
      "   YearsCreditHistory  OpenAccounts  CreditProblems  Credit  MaximumCredit  \n",
      "0                17.2             6               1  228190       416746.0  \n",
      "1                21.1            35               0  229976       850784.0  \n",
      "2                14.9            18               1  297996       750090.0  \n",
      "columns:\n",
      " Index(['LoanID', 'CustomerID', 'LoanStatus', 'LoanAmount', 'Term',\n",
      "       'CreditScore', 'Income', 'MonthlyDebt', 'YearsCreditHistory',\n",
      "       'OpenAccounts', 'CreditProblems', 'Credit', 'MaximumCredit'],\n",
      "      dtype='object') __________________________________\n",
      "\n"
     ]
    }
   ],
   "source": [
    "print(\"before:\\n\",loans.head(3))\n",
    "print(\"columns:\\n\", loans.columns, \"__________________________________\\n\")\n",
    "loans.loc[loans['CurrentLoanAmount'] == 99999999,'CurrentLoanAmount'] = np.NAN\n",
    "#loans = loans[loans.CurrentLoanAmount == 99999999] = np.NAN\n",
    "\n",
    "loans.rename(columns={'CurrentLoanAmount': 'LoanAmount', 'CurrentCredit': 'Credit'}, inplace = True) \n",
    "#loans.rename(columns={3: \"LoanAmount\", 11: \"Credit\"}) #ask why won't this work\n",
    "\n",
    "print(\"after\\n\", loans.head(3))\n",
    "print(\"columns:\\n\", loans.columns, \"__________________________________\\n\")\n",
    "#avg_loan = np.mean(loans['LoanAmount'])\n",
    "avg_loan  = loans['LoanAmount'].mean()\n",
    "loans.loc[loans['LoanAmount'].isna(),'LoanAmount'] = avg_loan"
   ]
  },
  {
   "cell_type": "code",
   "execution_count": 11,
   "metadata": {
    "deletable": false,
    "editable": false
   },
   "outputs": [
    {
     "data": {
      "text/html": [
       "\n",
       "    <p><strong>q2</strong> passed!</p>\n",
       "    "
      ],
      "text/plain": [
       "q2 passed!"
      ]
     },
     "execution_count": 11,
     "metadata": {},
     "output_type": "execute_result"
    }
   ],
   "source": [
    "grader.check(\"q2\")"
   ]
  },
  {
   "cell_type": "markdown",
   "metadata": {
    "deletable": false,
    "editable": false
   },
   "source": [
    "**Question 3 (2pts):** \n",
    "\n",
    "- Add a new column `Amt_per_Acct` to the DataFrame object `loans`. `Amt_per_Acct` should be computed as `LoanAmount / OpenAccounts`.  \n",
    "- Create a DataFrame (subset) that contains the loans that are fully paid and assign it to a variable named `fully_paid`. Include all columns.\n",
    "- (Optional for 1pt extra credit) Create a data frame named open_le_10 by taking the first 4 columns and the last 4 columns for loans of customers with 10 or less OpenAccounts.\n",
    "\n",
    "\n",
    "\n",
    "<!--\n",
    "BEGIN QUESTION\n",
    "name: q3\n",
    "points:\n",
    "    - 0.5\n",
    "    - 0.5\n",
    "    - 0.5\n",
    "    - 0.5\n",
    "    - 0.5\n",
    "    - 0.5\n",
    "-->"
   ]
  },
  {
   "cell_type": "code",
   "execution_count": 12,
   "metadata": {},
   "outputs": [
    {
     "data": {
      "text/html": [
       "<div>\n",
       "<style scoped>\n",
       "    .dataframe tbody tr th:only-of-type {\n",
       "        vertical-align: middle;\n",
       "    }\n",
       "\n",
       "    .dataframe tbody tr th {\n",
       "        vertical-align: top;\n",
       "    }\n",
       "\n",
       "    .dataframe thead th {\n",
       "        text-align: right;\n",
       "    }\n",
       "</style>\n",
       "<table border=\"1\" class=\"dataframe\">\n",
       "  <thead>\n",
       "    <tr style=\"text-align: right;\">\n",
       "      <th></th>\n",
       "      <th>LoanID</th>\n",
       "      <th>CustomerID</th>\n",
       "      <th>LoanStatus</th>\n",
       "      <th>LoanAmount</th>\n",
       "      <th>Term</th>\n",
       "      <th>CreditScore</th>\n",
       "      <th>Income</th>\n",
       "      <th>MonthlyDebt</th>\n",
       "      <th>YearsCreditHistory</th>\n",
       "      <th>OpenAccounts</th>\n",
       "      <th>CreditProblems</th>\n",
       "      <th>Credit</th>\n",
       "      <th>MaximumCredit</th>\n",
       "      <th>Amt_per_Acct</th>\n",
       "    </tr>\n",
       "  </thead>\n",
       "  <tbody>\n",
       "    <tr>\n",
       "      <th>0</th>\n",
       "      <td>14dd8831-6af5-400b-83ec-68e61888a048</td>\n",
       "      <td>981165ec-3274-42f5-a3b4-d104041a9ca9</td>\n",
       "      <td>Fully Paid</td>\n",
       "      <td>445412.000000</td>\n",
       "      <td>Short Term</td>\n",
       "      <td>709.0</td>\n",
       "      <td>1167493.0</td>\n",
       "      <td>5214.74</td>\n",
       "      <td>17.2</td>\n",
       "      <td>6</td>\n",
       "      <td>1</td>\n",
       "      <td>228190</td>\n",
       "      <td>416746.0</td>\n",
       "      <td>74235.333333</td>\n",
       "    </tr>\n",
       "    <tr>\n",
       "      <th>1</th>\n",
       "      <td>4771cc26-131a-45db-b5aa-537ea4ba5342</td>\n",
       "      <td>2de017a3-2e01-49cb-a581-08169e83be29</td>\n",
       "      <td>Fully Paid</td>\n",
       "      <td>262328.000000</td>\n",
       "      <td>Short Term</td>\n",
       "      <td>NaN</td>\n",
       "      <td>NaN</td>\n",
       "      <td>33295.98</td>\n",
       "      <td>21.1</td>\n",
       "      <td>35</td>\n",
       "      <td>0</td>\n",
       "      <td>229976</td>\n",
       "      <td>850784.0</td>\n",
       "      <td>7495.085714</td>\n",
       "    </tr>\n",
       "    <tr>\n",
       "      <th>2</th>\n",
       "      <td>4eed4e6a-aa2f-4c91-8651-ce984ee8fb26</td>\n",
       "      <td>5efb2b2b-bf11-4dfd-a572-3761a2694725</td>\n",
       "      <td>Fully Paid</td>\n",
       "      <td>312313.597881</td>\n",
       "      <td>Short Term</td>\n",
       "      <td>741.0</td>\n",
       "      <td>2231892.0</td>\n",
       "      <td>29200.53</td>\n",
       "      <td>14.9</td>\n",
       "      <td>18</td>\n",
       "      <td>1</td>\n",
       "      <td>297996</td>\n",
       "      <td>750090.0</td>\n",
       "      <td>17350.755438</td>\n",
       "    </tr>\n",
       "  </tbody>\n",
       "</table>\n",
       "</div>"
      ],
      "text/plain": [
       "                                 LoanID                            CustomerID  \\\n",
       "0  14dd8831-6af5-400b-83ec-68e61888a048  981165ec-3274-42f5-a3b4-d104041a9ca9   \n",
       "1  4771cc26-131a-45db-b5aa-537ea4ba5342  2de017a3-2e01-49cb-a581-08169e83be29   \n",
       "2  4eed4e6a-aa2f-4c91-8651-ce984ee8fb26  5efb2b2b-bf11-4dfd-a572-3761a2694725   \n",
       "\n",
       "   LoanStatus     LoanAmount        Term  CreditScore     Income  MonthlyDebt  \\\n",
       "0  Fully Paid  445412.000000  Short Term        709.0  1167493.0      5214.74   \n",
       "1  Fully Paid  262328.000000  Short Term          NaN        NaN     33295.98   \n",
       "2  Fully Paid  312313.597881  Short Term        741.0  2231892.0     29200.53   \n",
       "\n",
       "   YearsCreditHistory  OpenAccounts  CreditProblems  Credit  MaximumCredit  \\\n",
       "0                17.2             6               1  228190       416746.0   \n",
       "1                21.1            35               0  229976       850784.0   \n",
       "2                14.9            18               1  297996       750090.0   \n",
       "\n",
       "   Amt_per_Acct  \n",
       "0  74235.333333  \n",
       "1   7495.085714  \n",
       "2  17350.755438  "
      ]
     },
     "execution_count": 12,
     "metadata": {},
     "output_type": "execute_result"
    }
   ],
   "source": [
    "#won't work till we get # 2 to work\n",
    "loans['Amt_per_Acct'] = loans['LoanAmount'] / loans['OpenAccounts'] \n",
    "\n",
    "fully_paid = loans.loc[loans['LoanStatus'] == \"Fully Paid\", :]\n",
    "\n",
    "\n",
    "#********************************************extra credit option here************************************#\n",
    "# Check if the new column has been added.\n",
    "#loans.head(3)\n",
    "fully_paid.head(3)"
   ]
  },
  {
   "cell_type": "code",
   "execution_count": 13,
   "metadata": {
    "deletable": false,
    "editable": false
   },
   "outputs": [
    {
     "data": {
      "text/html": [
       "\n",
       "    <p><strong>q3</strong> passed!</p>\n",
       "    "
      ],
      "text/plain": [
       "q3 passed!"
      ]
     },
     "execution_count": 13,
     "metadata": {},
     "output_type": "execute_result"
    }
   ],
   "source": [
    "grader.check(\"q3\")"
   ]
  },
  {
   "cell_type": "markdown",
   "metadata": {
    "deletable": false,
    "editable": false
   },
   "source": [
    "**Question 4 (2pts):** \n",
    "\n",
    "From the `loans` DataFrame object: \n",
    "- Create a DataFrame object named `low_risk` which has selected columns `[CustomerID, LoanAmount`, `Credit`, `Income`,`CreditScore]` and includes loans of customers with `YearsCreditHistory` greater than average and `MonthlyDebt` less than average.  Remember that you need to use bitwise logical operators (`&`,`|`, `~`) instead of regular logical operators (`and`, `or`, `not) when comparing the elements of an array-like structure.\n",
    "- Create a data frame named valued_customer with selected columns - `LoanID, LoanStatus, OpenAccounts, Amt_per_Acct, MonthlyDebt` - for fully paid loans where Amt_per_Acct is \\$100,000 or more.\n",
    "\n",
    "<!--\n",
    "BEGIN QUESTION\n",
    "name: q4\n",
    "points: \n",
    "    - 0.5\n",
    "    - 0.5\n",
    "    - 0.5\n",
    "    - 0.5\n",
    "-->"
   ]
  },
  {
   "cell_type": "code",
   "execution_count": 14,
   "metadata": {},
   "outputs": [],
   "source": [
    "# need to get #2 right\n",
    "is_low_risk = (loans['YearsCreditHistory'] > np.mean(loans['YearsCreditHistory'])) & (loans['MonthlyDebt'] < np.mean(loans['MonthlyDebt']))\n",
    "low_risk = loans.loc[is_low_risk, ['CustomerID', 'LoanAmount', 'Credit', 'Income','CreditScore']] \n",
    "\n",
    "valued_customer = fully_paid.loc[ fully_paid['Amt_per_Acct'] >= 100000, ['LoanID', 'LoanStatus', 'OpenAccounts', 'Amt_per_Acct', 'MonthlyDebt']]\n",
    "# Display and check if your answer works.\n",
    "#print(low_risk.head(3))\n",
    "#valued_customer.head(3)"
   ]
  },
  {
   "cell_type": "code",
   "execution_count": 15,
   "metadata": {
    "deletable": false,
    "editable": false
   },
   "outputs": [
    {
     "data": {
      "text/html": [
       "\n",
       "    <p><strong>q4</strong> passed!</p>\n",
       "    "
      ],
      "text/plain": [
       "q4 passed!"
      ]
     },
     "execution_count": 15,
     "metadata": {},
     "output_type": "execute_result"
    }
   ],
   "source": [
    "grader.check(\"q4\")"
   ]
  },
  {
   "cell_type": "markdown",
   "metadata": {
    "deletable": false,
    "editable": false
   },
   "source": [
    "**Question 5 (3pt):** \n",
    "\n",
    "- Import \"covid_all.csv\" as a pandas.core.frame.DataFrame object named `covid_all`. Use the first column as the index column. \n",
    "\n",
    "- Remove all rows that are not the data for the 50 states and DC and store them in a new variable named `covid_main`. Hint: Use columns `state` and `Type` to include only the states and DC (i.e., `covid_all['state']=='DC' | covid_all['Type']=='State'`). You just need to use `loc` to apply this filter and select all columns (using :).\n",
    "\n",
    "- Select the columns, `date`, `state`, `Name`, `Population`, `deathIncrease`, `hospitalizedCurrently`, `positiveIncrease`, and `totalTestResultsIncrease` from `covid_main`. Then, rename these columns with new names `Date`, `StateCode`, `StateName`, `Pop`, `NewDeath`, `HospNow`, `NewCase`, and `NewTest`. Finally, assign this to a new variable named `covid`.\n",
    "\n",
    "- Convert the `Date` column to datetime. The code for this is provided for you below.\n",
    "\n",
    "<!--\n",
    "BEGIN QUESTION\n",
    "name: q5\n",
    "points: \n",
    "    - 1\n",
    "    - 1\n",
    "    - 1\n",
    "-->"
   ]
  },
  {
   "cell_type": "code",
   "execution_count": 16,
   "metadata": {},
   "outputs": [
    {
     "name": "stdout",
     "output_type": "stream",
     "text": [
      "         date state    death  deathConfirmed  deathIncrease  deathProbable  \\\n",
      "1  2021-03-07    AK    305.0             NaN              0            NaN   \n",
      "2  2021-03-07    AL  10148.0          7963.0             -1         2185.0   \n",
      "3  2021-03-07    AR   5319.0          4308.0             22         1011.0   \n",
      "4  2021-03-07    AS      0.0             NaN              0            NaN   \n",
      "5  2021-03-07    AZ  16328.0         14403.0              5         1925.0   \n",
      "\n",
      "   hospitalized  hospitalizedCumulative  hospitalizedCurrently  \\\n",
      "1        1293.0                  1293.0                   33.0   \n",
      "2       45976.0                 45976.0                  494.0   \n",
      "3       14926.0                 14926.0                  335.0   \n",
      "4           NaN                     NaN                    NaN   \n",
      "5       57907.0                 57907.0                  963.0   \n",
      "\n",
      "   hospitalizedIncrease  ...  totalTestsPeopleAntibody  \\\n",
      "1                     0  ...                       NaN   \n",
      "2                     0  ...                  119757.0   \n",
      "3                    11  ...                       NaN   \n",
      "4                     0  ...                       NaN   \n",
      "5                    44  ...                  444089.0   \n",
      "\n",
      "   totalTestsPeopleAntigen  totalTestsPeopleViral  \\\n",
      "1                      NaN                    NaN   \n",
      "2                      NaN              2323788.0   \n",
      "3                 481311.0                    NaN   \n",
      "4                      NaN                    NaN   \n",
      "5                      NaN              3842945.0   \n",
      "\n",
      "   totalTestsPeopleViralIncrease  totalTestsViral  totalTestsViralIncrease  \\\n",
      "1                              0        1731628.0                        0   \n",
      "2                           2347              NaN                        0   \n",
      "3                              0        2736442.0                     3380   \n",
      "4                              0           2140.0                        0   \n",
      "5                          14856        7908105.0                    45110   \n",
      "\n",
      "    X       Type            Name  Population  \n",
      "1   2      State          Alaska     731,545  \n",
      "2   1      State         Alabama   4,903,185  \n",
      "3   4      State        Arkansas   3,017,804  \n",
      "4  52  Territory  American Samoa         NaN  \n",
      "5   3      State         Arizona   7,278,717  \n",
      "\n",
      "[5 rows x 45 columns]\n"
     ]
    }
   ],
   "source": [
    "covid_all = pd.read_csv(\"covid_all.csv\", index_col = 0)\n",
    "\n",
    "covid_main = covid_all.loc[(covid_all['state']=='DC') | (covid_all['Type']=='State'), :]\n",
    "#covid_all.info()\n",
    "print(covid_all.head())\n",
    "\n",
    "covid = covid_main.loc[:,['date', 'state', 'Name', 'Population', 'deathIncrease', 'hospitalizedCurrently', 'positiveIncrease', 'totalTestResultsIncrease']]\n",
    "\n",
    "\n",
    "covid.rename(columns={'date': 'Date', 'state': 'StateCode', 'Name': 'StateName', 'Population':'Pop', 'deathIncrease':'NewDeath', 'hospitalizedCurrently':'HospNow', 'positiveIncrease':'NewCase', 'totalTestResultsIncrease':'NewTest'}, inplace = True)\n",
    "\n",
    "\n",
    "# Insert code that sets index with 'Date' column as a datetime object.\n",
    "covid['Date'] = pd.to_datetime(covid['Date'], format=\"%Y-%m-%d\")\n",
    "\n",
    "#covid.info()\n",
    "#covid\n"
   ]
  },
  {
   "cell_type": "code",
   "execution_count": 17,
   "metadata": {
    "deletable": false,
    "editable": false
   },
   "outputs": [
    {
     "data": {
      "text/html": [
       "\n",
       "    <p><strong>q5</strong> passed!</p>\n",
       "    "
      ],
      "text/plain": [
       "q5 passed!"
      ]
     },
     "execution_count": 17,
     "metadata": {},
     "output_type": "execute_result"
    }
   ],
   "source": [
    "grader.check(\"q5\")"
   ]
  },
  {
   "cell_type": "markdown",
   "metadata": {
    "deletable": false,
    "editable": false
   },
   "source": [
    "**Question 6 (3pt):** \n",
    "\n",
    "- Count the number of NaNs or 0s in the `NewCase` column of covid and store it in a variable named `num_no_case`. Hint: The `np.sum()` function or the 'Series object's `sum()` method  can be useful to count the number of `True`’s in a logical vector. Create a logical vector that represent whether its elements are `NaN` or 0 (i.e., `covid['NewCase'].isna() | covid['NewCase']==0`).\n",
    "\n",
    "- Count the number of all `NaN`s in covid and store it in a variable named `num_NaN`. You may have to run `sum()` twice because `sum()` performs a summation of array elements over a given axis. \n",
    "\n",
    "- Run `covid.info()` and `covid.tail()` and see what columns have NAs. You may also notice that `Pop` is currently not a numeric type. Change the data type of `Pop` to numeric. Hint: `s.str.replace(\",\",\"\")` can remove all commas in all elements in Series `s`. You may then want to use the `astype()` function after removing the commas.\n",
    "\n",
    "- Replace all `NaN`s in column `HospNow` with 0s. Then, try the following code to see the trend of hopitalization for North Carolina and neighboring states. \n",
    "\n",
    "<!--\n",
    "BEGIN QUESTION\n",
    "name: q6\n",
    "points: \n",
    "    - 1\n",
    "    - 1\n",
    "    - 1\n",
    "-->"
   ]
  },
  {
   "cell_type": "code",
   "execution_count": 18,
   "metadata": {},
   "outputs": [
    {
     "name": "stdout",
     "output_type": "stream",
     "text": [
      "part1\n",
      " 1123\n"
     ]
    }
   ],
   "source": [
    "# Write your code here ###\n",
    "num_no_case = (covid['NewCase'].isna() | covid['NewCase']==0).sum()\n",
    "print(\"part1\\n\", num_no_case)"
   ]
  },
  {
   "cell_type": "code",
   "execution_count": 19,
   "metadata": {},
   "outputs": [
    {
     "name": "stdout",
     "output_type": "stream",
     "text": [
      "part2\n",
      " 2285\n"
     ]
    }
   ],
   "source": [
    "num_NaN = covid.isna().sum().sum()\n",
    "print(\"part2\\n\", num_NaN)"
   ]
  },
  {
   "cell_type": "code",
   "execution_count": 20,
   "metadata": {},
   "outputs": [
    {
     "name": "stdout",
     "output_type": "stream",
     "text": [
      "<class 'pandas.core.frame.DataFrame'>\n",
      "Int64Index: 18995 entries, 1 to 20780\n",
      "Data columns (total 8 columns):\n",
      " #   Column     Non-Null Count  Dtype         \n",
      "---  ------     --------------  -----         \n",
      " 0   Date       18995 non-null  datetime64[ns]\n",
      " 1   StateCode  18995 non-null  object        \n",
      " 2   StateName  18995 non-null  object        \n",
      " 3   Pop        18995 non-null  object        \n",
      " 4   NewDeath   18995 non-null  int64         \n",
      " 5   HospNow    16710 non-null  float64       \n",
      " 6   NewCase    18995 non-null  int64         \n",
      " 7   NewTest    18995 non-null  int64         \n",
      "dtypes: datetime64[ns](1), float64(1), int64(3), object(3)\n",
      "memory usage: 1.3+ MB\n"
     ]
    },
    {
     "data": {
      "text/html": [
       "<div>\n",
       "<style scoped>\n",
       "    .dataframe tbody tr th:only-of-type {\n",
       "        vertical-align: middle;\n",
       "    }\n",
       "\n",
       "    .dataframe tbody tr th {\n",
       "        vertical-align: top;\n",
       "    }\n",
       "\n",
       "    .dataframe thead th {\n",
       "        text-align: right;\n",
       "    }\n",
       "</style>\n",
       "<table border=\"1\" class=\"dataframe\">\n",
       "  <thead>\n",
       "    <tr style=\"text-align: right;\">\n",
       "      <th></th>\n",
       "      <th>Date</th>\n",
       "      <th>StateCode</th>\n",
       "      <th>StateName</th>\n",
       "      <th>Pop</th>\n",
       "      <th>NewDeath</th>\n",
       "      <th>HospNow</th>\n",
       "      <th>NewCase</th>\n",
       "      <th>NewTest</th>\n",
       "    </tr>\n",
       "  </thead>\n",
       "  <tbody>\n",
       "    <tr>\n",
       "      <th>20776</th>\n",
       "      <td>2020-01-17</td>\n",
       "      <td>WA</td>\n",
       "      <td>Washington</td>\n",
       "      <td>7,614,893</td>\n",
       "      <td>0</td>\n",
       "      <td>NaN</td>\n",
       "      <td>0</td>\n",
       "      <td>0</td>\n",
       "    </tr>\n",
       "    <tr>\n",
       "      <th>20777</th>\n",
       "      <td>2020-01-16</td>\n",
       "      <td>WA</td>\n",
       "      <td>Washington</td>\n",
       "      <td>7,614,893</td>\n",
       "      <td>0</td>\n",
       "      <td>NaN</td>\n",
       "      <td>0</td>\n",
       "      <td>0</td>\n",
       "    </tr>\n",
       "    <tr>\n",
       "      <th>20778</th>\n",
       "      <td>2020-01-15</td>\n",
       "      <td>WA</td>\n",
       "      <td>Washington</td>\n",
       "      <td>7,614,893</td>\n",
       "      <td>0</td>\n",
       "      <td>NaN</td>\n",
       "      <td>0</td>\n",
       "      <td>0</td>\n",
       "    </tr>\n",
       "    <tr>\n",
       "      <th>20779</th>\n",
       "      <td>2020-01-14</td>\n",
       "      <td>WA</td>\n",
       "      <td>Washington</td>\n",
       "      <td>7,614,893</td>\n",
       "      <td>0</td>\n",
       "      <td>NaN</td>\n",
       "      <td>0</td>\n",
       "      <td>0</td>\n",
       "    </tr>\n",
       "    <tr>\n",
       "      <th>20780</th>\n",
       "      <td>2020-01-13</td>\n",
       "      <td>WA</td>\n",
       "      <td>Washington</td>\n",
       "      <td>7,614,893</td>\n",
       "      <td>0</td>\n",
       "      <td>NaN</td>\n",
       "      <td>0</td>\n",
       "      <td>0</td>\n",
       "    </tr>\n",
       "  </tbody>\n",
       "</table>\n",
       "</div>"
      ],
      "text/plain": [
       "            Date StateCode   StateName        Pop  NewDeath  HospNow  NewCase  \\\n",
       "20776 2020-01-17        WA  Washington  7,614,893         0      NaN        0   \n",
       "20777 2020-01-16        WA  Washington  7,614,893         0      NaN        0   \n",
       "20778 2020-01-15        WA  Washington  7,614,893         0      NaN        0   \n",
       "20779 2020-01-14        WA  Washington  7,614,893         0      NaN        0   \n",
       "20780 2020-01-13        WA  Washington  7,614,893         0      NaN        0   \n",
       "\n",
       "       NewTest  \n",
       "20776        0  \n",
       "20777        0  \n",
       "20778        0  \n",
       "20779        0  \n",
       "20780        0  "
      ]
     },
     "execution_count": 20,
     "metadata": {},
     "output_type": "execute_result"
    }
   ],
   "source": [
    "covid.info()\n",
    "covid.tail()"
   ]
  },
  {
   "cell_type": "code",
   "execution_count": 21,
   "metadata": {},
   "outputs": [],
   "source": [
    "covid['Pop']=covid['Pop'].str.replace(\",\",\"\").astype(int)"
   ]
  },
  {
   "cell_type": "code",
   "execution_count": 22,
   "metadata": {},
   "outputs": [],
   "source": [
    "covid.loc[covid['HospNow'].isna(),'HospNow'] = 0"
   ]
  },
  {
   "cell_type": "code",
   "execution_count": 23,
   "metadata": {
    "deletable": false,
    "editable": false
   },
   "outputs": [
    {
     "data": {
      "text/html": [
       "\n",
       "    <p><strong>q6</strong> passed!</p>\n",
       "    "
      ],
      "text/plain": [
       "q6 passed!"
      ]
     },
     "execution_count": 23,
     "metadata": {},
     "output_type": "execute_result"
    }
   ],
   "source": [
    "grader.check(\"q6\")"
   ]
  },
  {
   "cell_type": "markdown",
   "metadata": {},
   "source": [
    "## Data Visualization with pandas and matplotlib"
   ]
  },
  {
   "cell_type": "code",
   "execution_count": 24,
   "metadata": {},
   "outputs": [
    {
     "data": {
      "text/plain": [
       "StateCode\n",
       "GA    AxesSubplot(0.125,0.125;0.775x0.755)\n",
       "NC    AxesSubplot(0.125,0.125;0.775x0.755)\n",
       "SC    AxesSubplot(0.125,0.125;0.775x0.755)\n",
       "TN    AxesSubplot(0.125,0.125;0.775x0.755)\n",
       "VA    AxesSubplot(0.125,0.125;0.775x0.755)\n",
       "Name: HospNow, dtype: object"
      ]
     },
     "execution_count": 24,
     "metadata": {},
     "output_type": "execute_result"
    },
    {
     "data": {
      "image/png": "[encoded data removed]",
      "text/plain": [
       "<Figure size 432x288 with 1 Axes>"
      ]
     },
     "metadata": {
      "needs_background": "light"
     },
     "output_type": "display_data"
    }
   ],
   "source": [
    "# The following code is to show how to visualize your data in Python\n",
    "import matplotlib.pyplot as plt\n",
    "plt.close(\"all\")\n",
    "\n",
    "covid5 = covid.loc[covid['StateCode'].isin(['NC','VA','SC','TN','GA']), ['Date','StateCode','HospNow']]\n",
    "covid5.set_index('Date',inplace=True)\n",
    "covid5.groupby('StateCode')['HospNow'].plot(legend=True)"
   ]
  },
  {
   "cell_type": "markdown",
   "metadata": {
    "deletable": false,
    "editable": false
   },
   "source": [
    "**Question 7 (1pt):** \n",
    "    \n",
    "Modify `covid` to create a new column named `HospPerKiloPop`, which is calculated as `1000*HospNow/Pop`. This measure represents the number of hospitalized patients per 1,000 people, and thus it is a good measure to compare states with different sizes. Plot `HospPerKiloPop` instead of 'HospNow' to see whether hopitalization in North Carolina was better or worse than other neighboring states.\n",
    "\n",
    "<!--\n",
    "BEGIN QUESTION\n",
    "name: q7\n",
    "points: \n",
    "    - 0.5\n",
    "    - 0.5\n",
    "-->"
   ]
  },
  {
   "cell_type": "code",
   "execution_count": 25,
   "metadata": {},
   "outputs": [
    {
     "data": {
      "image/png": "[encoded data removed]",
      "text/plain": [
       "<Figure size 432x288 with 1 Axes>"
      ]
     },
     "metadata": {
      "needs_background": "light"
     },
     "output_type": "display_data"
    }
   ],
   "source": [
    "covid['HospPerKiloPop'] = 1000* covid['HospNow']/covid['Pop']\n",
    "\n",
    "covid5 = covid.loc[covid['StateCode'].isin(['NC','VA','SC','TN','GA']), ['Date','StateCode','HospPerKiloPop']]\n",
    "covid5.set_index('Date',inplace=True)\n",
    "covid5.groupby('StateCode')['HospPerKiloPop'].plot(legend=True)\n",
    "\n",
    "\n",
    "plt.show()\n",
    "del(covid['HospPerKiloPop']) # Delete the newly added column"
   ]
  },
  {
   "cell_type": "code",
   "execution_count": 26,
   "metadata": {
    "deletable": false,
    "editable": false
   },
   "outputs": [
    {
     "data": {
      "text/html": [
       "\n",
       "    <p><strong>q7</strong> passed!</p>\n",
       "    "
      ],
      "text/plain": [
       "q7 passed!"
      ]
     },
     "execution_count": 26,
     "metadata": {},
     "output_type": "execute_result"
    }
   ],
   "source": [
    "grader.check(\"q7\")"
   ]
  },
  {
   "cell_type": "markdown",
   "metadata": {
    "deletable": false,
    "editable": false
   },
   "source": [
    "**Question 8 (3pt):** \n",
    "\n",
    "Below you will find a code that generates a monthly summary data named `covid_mon`.  Add your code for the following:\n",
    "- Add a new column named `PosRate` to `covid_mon`, which is calculated as `MCase/MTest`.\n",
    "- Add a new column named `MDeathPerMilPop`, which represents monthly number of deaths per milllion people. \n",
    "- Add a set of new columns `MHospPerKiloPop`, `MCasePerKiloPop`, and `MTestPerKiloPop`. These should represent monthly total hopitalized days, number of cases, and number of tests per 1,000 people. \n",
    "\n",
    "<!--\n",
    "BEGIN QUESTION\n",
    "name: q8\n",
    "points: \n",
    "    each: 0.5\n",
    "-->\n"
   ]
  },
  {
   "cell_type": "code",
   "execution_count": 27,
   "metadata": {},
   "outputs": [],
   "source": [
    "#The following code generates a monthly summary data.\n",
    "covid['Year'] = pd.DatetimeIndex(covid['Date']).year\n",
    "covid['Month'] = pd.DatetimeIndex(covid['Date']).month\n",
    "covid = covid.loc[((covid['Year']==2020) & (covid['Month']>=3))| ((covid['Year']==2021) & (covid['Month']<=2)),:]\n",
    "\n",
    "covid_mon = covid.groupby(by=['Year','Month','StateCode'])[['NewDeath','HospNow','NewCase','NewTest']].sum()\n",
    "covid_mon_add = covid.groupby(by=['Year','Month','StateCode'])[['Date','Pop']].max()\n",
    "covid_mon = pd.concat([covid_mon, covid_mon_add],axis=1)\n",
    "covid_mon = covid_mon.rename({'NewDeath':'MDeath','HospNow':'MHosp','NewCase':'MCase','NewTest':'MTest'}, axis=1)\n",
    "covid_mon = covid_mon.reset_index()"
   ]
  },
  {
   "cell_type": "code",
   "execution_count": 28,
   "metadata": {},
   "outputs": [
    {
     "data": {
      "text/html": [
       "<div>\n",
       "<style scoped>\n",
       "    .dataframe tbody tr th:only-of-type {\n",
       "        vertical-align: middle;\n",
       "    }\n",
       "\n",
       "    .dataframe tbody tr th {\n",
       "        vertical-align: top;\n",
       "    }\n",
       "\n",
       "    .dataframe thead th {\n",
       "        text-align: right;\n",
       "    }\n",
       "</style>\n",
       "<table border=\"1\" class=\"dataframe\">\n",
       "  <thead>\n",
       "    <tr style=\"text-align: right;\">\n",
       "      <th></th>\n",
       "      <th>Year</th>\n",
       "      <th>Month</th>\n",
       "      <th>StateCode</th>\n",
       "      <th>MDeath</th>\n",
       "      <th>MHosp</th>\n",
       "      <th>MCase</th>\n",
       "      <th>MTest</th>\n",
       "      <th>Date</th>\n",
       "      <th>Pop</th>\n",
       "    </tr>\n",
       "  </thead>\n",
       "  <tbody>\n",
       "    <tr>\n",
       "      <th>0</th>\n",
       "      <td>2020</td>\n",
       "      <td>3</td>\n",
       "      <td>AK</td>\n",
       "      <td>3</td>\n",
       "      <td>0.0</td>\n",
       "      <td>128</td>\n",
       "      <td>3705</td>\n",
       "      <td>2020-03-31</td>\n",
       "      <td>731545</td>\n",
       "    </tr>\n",
       "    <tr>\n",
       "      <th>1</th>\n",
       "      <td>2020</td>\n",
       "      <td>3</td>\n",
       "      <td>AL</td>\n",
       "      <td>13</td>\n",
       "      <td>1003.0</td>\n",
       "      <td>981</td>\n",
       "      <td>7279</td>\n",
       "      <td>2020-03-31</td>\n",
       "      <td>4903185</td>\n",
       "    </tr>\n",
       "    <tr>\n",
       "      <th>2</th>\n",
       "      <td>2020</td>\n",
       "      <td>3</td>\n",
       "      <td>AR</td>\n",
       "      <td>8</td>\n",
       "      <td>376.0</td>\n",
       "      <td>523</td>\n",
       "      <td>6476</td>\n",
       "      <td>2020-03-31</td>\n",
       "      <td>3017804</td>\n",
       "    </tr>\n",
       "    <tr>\n",
       "      <th>3</th>\n",
       "      <td>2020</td>\n",
       "      <td>3</td>\n",
       "      <td>AZ</td>\n",
       "      <td>24</td>\n",
       "      <td>0.0</td>\n",
       "      <td>1287</td>\n",
       "      <td>27966</td>\n",
       "      <td>2020-03-31</td>\n",
       "      <td>7278717</td>\n",
       "    </tr>\n",
       "    <tr>\n",
       "      <th>4</th>\n",
       "      <td>2020</td>\n",
       "      <td>3</td>\n",
       "      <td>CA</td>\n",
       "      <td>153</td>\n",
       "      <td>5863.0</td>\n",
       "      <td>7429</td>\n",
       "      <td>28739</td>\n",
       "      <td>2020-03-31</td>\n",
       "      <td>39512223</td>\n",
       "    </tr>\n",
       "  </tbody>\n",
       "</table>\n",
       "</div>"
      ],
      "text/plain": [
       "   Year  Month StateCode  MDeath   MHosp  MCase  MTest       Date       Pop\n",
       "0  2020      3        AK       3     0.0    128   3705 2020-03-31    731545\n",
       "1  2020      3        AL      13  1003.0    981   7279 2020-03-31   4903185\n",
       "2  2020      3        AR       8   376.0    523   6476 2020-03-31   3017804\n",
       "3  2020      3        AZ      24     0.0   1287  27966 2020-03-31   7278717\n",
       "4  2020      3        CA     153  5863.0   7429  28739 2020-03-31  39512223"
      ]
     },
     "execution_count": 28,
     "metadata": {},
     "output_type": "execute_result"
    }
   ],
   "source": [
    "covid_mon.head()"
   ]
  },
  {
   "cell_type": "code",
   "execution_count": 29,
   "metadata": {},
   "outputs": [],
   "source": [
    "# Write your code here ###\n",
    "covid_mon['PosRate'] = covid_mon['MCase']/ covid_mon['MTest'] \n",
    "\n",
    "covid_mon['MDeathPerMilPop'] = 1000000*covid_mon['MDeath']/covid_mon['Pop'] #monthly number of deaths per milllion people"
   ]
  },
  {
   "cell_type": "code",
   "execution_count": 30,
   "metadata": {},
   "outputs": [],
   "source": [
    "covid_mon['MHospPerKiloPop']  = 1000*covid_mon['MHosp']/covid_mon['Pop']  #monthly total hopitalized days per 1,000 people\n",
    "covid_mon['MCasePerKiloPop']  = 1000*covid_mon['MCase']/covid_mon['Pop']  #number of cases per 1,000 people\n",
    "covid_mon['MTestPerKiloPop']  = 1000*covid_mon['MTest']/covid_mon['Pop']  # number of tests per 1,000 people"
   ]
  },
  {
   "cell_type": "code",
   "execution_count": 31,
   "metadata": {
    "deletable": false,
    "editable": false
   },
   "outputs": [
    {
     "data": {
      "text/html": [
       "\n",
       "    <p><strong>q8</strong> passed!</p>\n",
       "    "
      ],
      "text/plain": [
       "q8 passed!"
      ]
     },
     "execution_count": 31,
     "metadata": {},
     "output_type": "execute_result"
    }
   ],
   "source": [
    "grader.check(\"q8\")"
   ]
  },
  {
   "cell_type": "markdown",
   "metadata": {},
   "source": [
    "### The codes below will let you visualize each COVID-19 metric.  \n",
    "Feel free to improve the visualization such as adding the title.  No points are assigned though."
   ]
  },
  {
   "cell_type": "code",
   "execution_count": 32,
   "metadata": {},
   "outputs": [
    {
     "data": {
      "text/plain": [
       "StateCode\n",
       "GA    AxesSubplot(0.125,0.125;0.775x0.755)\n",
       "NC    AxesSubplot(0.125,0.125;0.775x0.755)\n",
       "SC    AxesSubplot(0.125,0.125;0.775x0.755)\n",
       "TN    AxesSubplot(0.125,0.125;0.775x0.755)\n",
       "VA    AxesSubplot(0.125,0.125;0.775x0.755)\n",
       "Name: PosRate, dtype: object"
      ]
     },
     "execution_count": 32,
     "metadata": {},
     "output_type": "execute_result"
    },
    {
     "data": {
      "image/png": "[encoded data removed]",
      "text/plain": [
       "<Figure size 432x288 with 1 Axes>"
      ]
     },
     "metadata": {
      "needs_background": "light"
     },
     "output_type": "display_data"
    }
   ],
   "source": [
    "pos_rate = covid_mon.loc[covid_mon['StateCode'].isin(['NC','VA','SC','TN','GA']), ['Date','StateCode','PosRate']]\n",
    "pos_rate.set_index('Date').groupby('StateCode')['PosRate'].plot(legend=True)"
   ]
  },
  {
   "cell_type": "code",
   "execution_count": 33,
   "metadata": {},
   "outputs": [
    {
     "data": {
      "text/plain": [
       "StateCode\n",
       "GA    AxesSubplot(0.125,0.125;0.775x0.755)\n",
       "NC    AxesSubplot(0.125,0.125;0.775x0.755)\n",
       "SC    AxesSubplot(0.125,0.125;0.775x0.755)\n",
       "TN    AxesSubplot(0.125,0.125;0.775x0.755)\n",
       "VA    AxesSubplot(0.125,0.125;0.775x0.755)\n",
       "Name: MDeathPerMilPop, dtype: object"
      ]
     },
     "execution_count": 33,
     "metadata": {},
     "output_type": "execute_result"
    },
    {
     "data": {
      "image/png": "[encoded data removed]",
      "text/plain": [
       "<Figure size 432x288 with 1 Axes>"
      ]
     },
     "metadata": {
      "needs_background": "light"
     },
     "output_type": "display_data"
    }
   ],
   "source": [
    "mdeath = covid_mon.loc[covid_mon['StateCode'].isin(['NC','VA','SC','TN','GA']), ['Date','StateCode','MDeathPerMilPop']]\n",
    "mdeath.set_index('Date').groupby('StateCode')['MDeathPerMilPop'].plot(legend=True)"
   ]
  },
  {
   "cell_type": "code",
   "execution_count": 34,
   "metadata": {},
   "outputs": [
    {
     "data": {
      "text/plain": [
       "StateCode\n",
       "GA    AxesSubplot(0.125,0.125;0.775x0.755)\n",
       "NC    AxesSubplot(0.125,0.125;0.775x0.755)\n",
       "SC    AxesSubplot(0.125,0.125;0.775x0.755)\n",
       "TN    AxesSubplot(0.125,0.125;0.775x0.755)\n",
       "VA    AxesSubplot(0.125,0.125;0.775x0.755)\n",
       "Name: MHospPerKiloPop, dtype: object"
      ]
     },
     "execution_count": 34,
     "metadata": {},
     "output_type": "execute_result"
    },
    {
     "data": {
      "image/png": "[encoded data removed]",
      "text/plain": [
       "<Figure size 432x288 with 1 Axes>"
      ]
     },
     "metadata": {
      "needs_background": "light"
     },
     "output_type": "display_data"
    }
   ],
   "source": [
    "mhosp = covid_mon.loc[covid_mon['StateCode'].isin(['NC','VA','SC','TN','GA']), ['Date','StateCode','MHospPerKiloPop']]\n",
    "mhosp.set_index('Date').groupby('StateCode')['MHospPerKiloPop'].plot(legend=True)"
   ]
  },
  {
   "cell_type": "code",
   "execution_count": 35,
   "metadata": {},
   "outputs": [
    {
     "data": {
      "text/plain": [
       "StateCode\n",
       "GA    AxesSubplot(0.125,0.125;0.775x0.755)\n",
       "NC    AxesSubplot(0.125,0.125;0.775x0.755)\n",
       "SC    AxesSubplot(0.125,0.125;0.775x0.755)\n",
       "TN    AxesSubplot(0.125,0.125;0.775x0.755)\n",
       "VA    AxesSubplot(0.125,0.125;0.775x0.755)\n",
       "Name: MCasePerKiloPop, dtype: object"
      ]
     },
     "execution_count": 35,
     "metadata": {},
     "output_type": "execute_result"
    },
    {
     "data": {
      "image/png": "[encoded data removed]",
      "text/plain": [
       "<Figure size 432x288 with 1 Axes>"
      ]
     },
     "metadata": {
      "needs_background": "light"
     },
     "output_type": "display_data"
    }
   ],
   "source": [
    "mcase = covid_mon.loc[covid_mon['StateCode'].isin(['NC','VA','SC','TN','GA']), ['Date','StateCode','MCasePerKiloPop']]\n",
    "mcase.set_index('Date').groupby('StateCode')['MCasePerKiloPop'].plot(legend=True)"
   ]
  },
  {
   "cell_type": "code",
   "execution_count": 36,
   "metadata": {},
   "outputs": [
    {
     "data": {
      "text/plain": [
       "StateCode\n",
       "GA    AxesSubplot(0.125,0.125;0.775x0.755)\n",
       "NC    AxesSubplot(0.125,0.125;0.775x0.755)\n",
       "SC    AxesSubplot(0.125,0.125;0.775x0.755)\n",
       "TN    AxesSubplot(0.125,0.125;0.775x0.755)\n",
       "VA    AxesSubplot(0.125,0.125;0.775x0.755)\n",
       "Name: MTestPerKiloPop, dtype: object"
      ]
     },
     "execution_count": 36,
     "metadata": {},
     "output_type": "execute_result"
    },
    {
     "data": {
      "image/png": "[encoded data removed]",
      "text/plain": [
       "<Figure size 432x288 with 1 Axes>"
      ]
     },
     "metadata": {
      "needs_background": "light"
     },
     "output_type": "display_data"
    }
   ],
   "source": [
    "mtest = covid_mon.loc[covid_mon['StateCode'].isin(['NC','VA','SC','TN','GA']), ['Date','StateCode','MTestPerKiloPop']]\n",
    "mtest.set_index('Date').groupby('StateCode')['MTestPerKiloPop'].plot(legend=True)"
   ]
  },
  {
   "cell_type": "markdown",
   "metadata": {
    "deletable": false,
    "editable": false
   },
   "source": [
    "**Question 9 (2pt):** \n",
    "    \n",
    "- Use `pivot_table()` so that StateCode values (e.g., ’NC’) become variables and each cell contains a `MHosp` value. You need `Date`, `StateCode`, and `MHosp` in `pivot_table()` to get the format you want. Assign the modified DataFrame to a variable named `hospital_days`.\n",
    "- Modify `hospital_days` to add a new column named `USTotal` that aggregates the number of hospital days. Hint: Use the correct axis value.\n",
    "\n",
    "<!--\n",
    "BEGIN QUESTION\n",
    "name: q9\n",
    "points: \n",
    "    each: 0.5\n",
    "-->"
   ]
  },
  {
   "cell_type": "code",
   "execution_count": 37,
   "metadata": {},
   "outputs": [],
   "source": [
    "# Write your code here ###\n",
    "hospital_days = covid_mon.pivot_table(values='MHosp', columns='StateCode', index = 'Date')"
   ]
  },
  {
   "cell_type": "code",
   "execution_count": 38,
   "metadata": {},
   "outputs": [],
   "source": [
    "hospital_days['USTotal']=hospital_days.sum(axis=1)"
   ]
  },
  {
   "cell_type": "code",
   "execution_count": 39,
   "metadata": {},
   "outputs": [
    {
     "data": {
      "text/html": [
       "<div>\n",
       "<style scoped>\n",
       "    .dataframe tbody tr th:only-of-type {\n",
       "        vertical-align: middle;\n",
       "    }\n",
       "\n",
       "    .dataframe tbody tr th {\n",
       "        vertical-align: top;\n",
       "    }\n",
       "\n",
       "    .dataframe thead th {\n",
       "        text-align: right;\n",
       "    }\n",
       "</style>\n",
       "<table border=\"1\" class=\"dataframe\">\n",
       "  <thead>\n",
       "    <tr style=\"text-align: right;\">\n",
       "      <th>StateCode</th>\n",
       "      <th>AK</th>\n",
       "      <th>AL</th>\n",
       "      <th>AR</th>\n",
       "      <th>AZ</th>\n",
       "      <th>CA</th>\n",
       "      <th>CO</th>\n",
       "      <th>CT</th>\n",
       "      <th>DC</th>\n",
       "      <th>DE</th>\n",
       "      <th>FL</th>\n",
       "      <th>...</th>\n",
       "      <th>TN</th>\n",
       "      <th>TX</th>\n",
       "      <th>UT</th>\n",
       "      <th>VA</th>\n",
       "      <th>VT</th>\n",
       "      <th>WA</th>\n",
       "      <th>WI</th>\n",
       "      <th>WV</th>\n",
       "      <th>WY</th>\n",
       "      <th>USTotal</th>\n",
       "    </tr>\n",
       "    <tr>\n",
       "      <th>Date</th>\n",
       "      <th></th>\n",
       "      <th></th>\n",
       "      <th></th>\n",
       "      <th></th>\n",
       "      <th></th>\n",
       "      <th></th>\n",
       "      <th></th>\n",
       "      <th></th>\n",
       "      <th></th>\n",
       "      <th></th>\n",
       "      <th></th>\n",
       "      <th></th>\n",
       "      <th></th>\n",
       "      <th></th>\n",
       "      <th></th>\n",
       "      <th></th>\n",
       "      <th></th>\n",
       "      <th></th>\n",
       "      <th></th>\n",
       "      <th></th>\n",
       "      <th></th>\n",
       "    </tr>\n",
       "  </thead>\n",
       "  <tbody>\n",
       "    <tr>\n",
       "      <th>2020-03-31</th>\n",
       "      <td>0.0</td>\n",
       "      <td>1003.0</td>\n",
       "      <td>376.0</td>\n",
       "      <td>0.0</td>\n",
       "      <td>5863.0</td>\n",
       "      <td>2980.0</td>\n",
       "      <td>2313.0</td>\n",
       "      <td>0.0</td>\n",
       "      <td>205.0</td>\n",
       "      <td>0.0</td>\n",
       "      <td>...</td>\n",
       "      <td>9.0</td>\n",
       "      <td>196.0</td>\n",
       "      <td>0.0</td>\n",
       "      <td>0.0</td>\n",
       "      <td>21.0</td>\n",
       "      <td>0.0</td>\n",
       "      <td>0.0</td>\n",
       "      <td>0.0</td>\n",
       "      <td>0.0</td>\n",
       "      <td>97035.0</td>\n",
       "    </tr>\n",
       "    <tr>\n",
       "      <th>2020-04-30</th>\n",
       "      <td>386.0</td>\n",
       "      <td>10802.0</td>\n",
       "      <td>2542.0</td>\n",
       "      <td>11575.0</td>\n",
       "      <td>121601.0</td>\n",
       "      <td>26346.0</td>\n",
       "      <td>48061.0</td>\n",
       "      <td>5371.0</td>\n",
       "      <td>6298.0</td>\n",
       "      <td>0.0</td>\n",
       "      <td>...</td>\n",
       "      <td>16568.0</td>\n",
       "      <td>38829.0</td>\n",
       "      <td>0.0</td>\n",
       "      <td>28944.0</td>\n",
       "      <td>1158.0</td>\n",
       "      <td>14995.0</td>\n",
       "      <td>10386.0</td>\n",
       "      <td>1880.0</td>\n",
       "      <td>238.0</td>\n",
       "      <td>1508083.0</td>\n",
       "    </tr>\n",
       "    <tr>\n",
       "      <th>2020-05-31</th>\n",
       "      <td>379.0</td>\n",
       "      <td>15613.0</td>\n",
       "      <td>2542.0</td>\n",
       "      <td>24709.0</td>\n",
       "      <td>140092.0</td>\n",
       "      <td>20184.0</td>\n",
       "      <td>32074.0</td>\n",
       "      <td>10662.0</td>\n",
       "      <td>7599.0</td>\n",
       "      <td>0.0</td>\n",
       "      <td>...</td>\n",
       "      <td>16870.0</td>\n",
       "      <td>51825.0</td>\n",
       "      <td>3883.0</td>\n",
       "      <td>46156.0</td>\n",
       "      <td>580.0</td>\n",
       "      <td>14999.0</td>\n",
       "      <td>11441.0</td>\n",
       "      <td>1611.0</td>\n",
       "      <td>337.0</td>\n",
       "      <td>1371778.0</td>\n",
       "    </tr>\n",
       "    <tr>\n",
       "      <th>2020-06-30</th>\n",
       "      <td>422.0</td>\n",
       "      <td>19051.0</td>\n",
       "      <td>6297.0</td>\n",
       "      <td>50850.0</td>\n",
       "      <td>145279.0</td>\n",
       "      <td>8405.0</td>\n",
       "      <td>6792.0</td>\n",
       "      <td>6197.0</td>\n",
       "      <td>2982.0</td>\n",
       "      <td>0.0</td>\n",
       "      <td>...</td>\n",
       "      <td>19111.0</td>\n",
       "      <td>93101.0</td>\n",
       "      <td>6431.0</td>\n",
       "      <td>30211.0</td>\n",
       "      <td>397.0</td>\n",
       "      <td>11955.0</td>\n",
       "      <td>8612.0</td>\n",
       "      <td>811.0</td>\n",
       "      <td>188.0</td>\n",
       "      <td>923715.0</td>\n",
       "    </tr>\n",
       "    <tr>\n",
       "      <th>2020-07-31</th>\n",
       "      <td>952.0</td>\n",
       "      <td>40362.0</td>\n",
       "      <td>13168.0</td>\n",
       "      <td>95275.0</td>\n",
       "      <td>249725.0</td>\n",
       "      <td>10680.0</td>\n",
       "      <td>2283.0</td>\n",
       "      <td>2882.0</td>\n",
       "      <td>1758.0</td>\n",
       "      <td>191410.0</td>\n",
       "      <td>...</td>\n",
       "      <td>38915.0</td>\n",
       "      <td>304166.0</td>\n",
       "      <td>7563.0</td>\n",
       "      <td>33757.0</td>\n",
       "      <td>533.0</td>\n",
       "      <td>14866.0</td>\n",
       "      <td>8410.0</td>\n",
       "      <td>1985.0</td>\n",
       "      <td>420.0</td>\n",
       "      <td>1604940.0</td>\n",
       "    </tr>\n",
       "    <tr>\n",
       "      <th>2020-08-31</th>\n",
       "      <td>1281.0</td>\n",
       "      <td>39761.0</td>\n",
       "      <td>14869.0</td>\n",
       "      <td>41750.0</td>\n",
       "      <td>197668.0</td>\n",
       "      <td>8425.0</td>\n",
       "      <td>1805.0</td>\n",
       "      <td>2610.0</td>\n",
       "      <td>1286.0</td>\n",
       "      <td>180539.0</td>\n",
       "      <td>...</td>\n",
       "      <td>37477.0</td>\n",
       "      <td>199705.0</td>\n",
       "      <td>5808.0</td>\n",
       "      <td>37704.0</td>\n",
       "      <td>371.0</td>\n",
       "      <td>15109.0</td>\n",
       "      <td>10586.0</td>\n",
       "      <td>4060.0</td>\n",
       "      <td>494.0</td>\n",
       "      <td>1378711.0</td>\n",
       "    </tr>\n",
       "    <tr>\n",
       "      <th>2020-09-30</th>\n",
       "      <td>1257.0</td>\n",
       "      <td>23902.0</td>\n",
       "      <td>12579.0</td>\n",
       "      <td>17528.0</td>\n",
       "      <td>114540.0</td>\n",
       "      <td>7169.0</td>\n",
       "      <td>2023.0</td>\n",
       "      <td>2667.0</td>\n",
       "      <td>1808.0</td>\n",
       "      <td>79467.0</td>\n",
       "      <td>...</td>\n",
       "      <td>27773.0</td>\n",
       "      <td>103272.0</td>\n",
       "      <td>5120.0</td>\n",
       "      <td>30205.0</td>\n",
       "      <td>100.0</td>\n",
       "      <td>11595.0</td>\n",
       "      <td>12003.0</td>\n",
       "      <td>4749.0</td>\n",
       "      <td>506.0</td>\n",
       "      <td>922622.0</td>\n",
       "    </tr>\n",
       "    <tr>\n",
       "      <th>2020-10-31</th>\n",
       "      <td>1800.0</td>\n",
       "      <td>26504.0</td>\n",
       "      <td>17974.0</td>\n",
       "      <td>22918.0</td>\n",
       "      <td>95700.0</td>\n",
       "      <td>14659.0</td>\n",
       "      <td>6027.0</td>\n",
       "      <td>2919.0</td>\n",
       "      <td>3071.0</td>\n",
       "      <td>66572.0</td>\n",
       "      <td>...</td>\n",
       "      <td>38242.0</td>\n",
       "      <td>133736.0</td>\n",
       "      <td>8840.0</td>\n",
       "      <td>30518.0</td>\n",
       "      <td>79.0</td>\n",
       "      <td>12066.0</td>\n",
       "      <td>33205.0</td>\n",
       "      <td>5846.0</td>\n",
       "      <td>2016.0</td>\n",
       "      <td>1160606.0</td>\n",
       "    </tr>\n",
       "    <tr>\n",
       "      <th>2020-11-30</th>\n",
       "      <td>3838.0</td>\n",
       "      <td>37704.0</td>\n",
       "      <td>25244.0</td>\n",
       "      <td>48539.0</td>\n",
       "      <td>151325.0</td>\n",
       "      <td>42652.0</td>\n",
       "      <td>20776.0</td>\n",
       "      <td>3470.0</td>\n",
       "      <td>4448.0</td>\n",
       "      <td>96465.0</td>\n",
       "      <td>...</td>\n",
       "      <td>61089.0</td>\n",
       "      <td>219546.0</td>\n",
       "      <td>15045.0</td>\n",
       "      <td>40029.0</td>\n",
       "      <td>481.0</td>\n",
       "      <td>21327.0</td>\n",
       "      <td>58301.0</td>\n",
       "      <td>11440.0</td>\n",
       "      <td>5705.0</td>\n",
       "      <td>2150388.0</td>\n",
       "    </tr>\n",
       "    <tr>\n",
       "      <th>2020-12-31</th>\n",
       "      <td>4053.0</td>\n",
       "      <td>71419.0</td>\n",
       "      <td>33558.0</td>\n",
       "      <td>114172.0</td>\n",
       "      <td>481266.0</td>\n",
       "      <td>47111.0</td>\n",
       "      <td>36984.0</td>\n",
       "      <td>6896.0</td>\n",
       "      <td>11544.0</td>\n",
       "      <td>158099.0</td>\n",
       "      <td>...</td>\n",
       "      <td>92680.0</td>\n",
       "      <td>306178.0</td>\n",
       "      <td>17860.0</td>\n",
       "      <td>69942.0</td>\n",
       "      <td>863.0</td>\n",
       "      <td>35394.0</td>\n",
       "      <td>43445.0</td>\n",
       "      <td>21705.0</td>\n",
       "      <td>5477.0</td>\n",
       "      <td>3448860.0</td>\n",
       "    </tr>\n",
       "    <tr>\n",
       "      <th>2021-01-31</th>\n",
       "      <td>2127.0</td>\n",
       "      <td>81749.0</td>\n",
       "      <td>37350.0</td>\n",
       "      <td>142421.0</td>\n",
       "      <td>637255.0</td>\n",
       "      <td>26355.0</td>\n",
       "      <td>33641.0</td>\n",
       "      <td>8184.0</td>\n",
       "      <td>13027.0</td>\n",
       "      <td>219573.0</td>\n",
       "      <td>...</td>\n",
       "      <td>88109.0</td>\n",
       "      <td>409651.0</td>\n",
       "      <td>17835.0</td>\n",
       "      <td>91228.0</td>\n",
       "      <td>1454.0</td>\n",
       "      <td>32012.0</td>\n",
       "      <td>28341.0</td>\n",
       "      <td>21212.0</td>\n",
       "      <td>2703.0</td>\n",
       "      <td>3732111.0</td>\n",
       "    </tr>\n",
       "    <tr>\n",
       "      <th>2021-02-28</th>\n",
       "      <td>1101.0</td>\n",
       "      <td>33150.0</td>\n",
       "      <td>18855.0</td>\n",
       "      <td>63442.0</td>\n",
       "      <td>278992.0</td>\n",
       "      <td>13656.0</td>\n",
       "      <td>18493.0</td>\n",
       "      <td>5986.0</td>\n",
       "      <td>6331.0</td>\n",
       "      <td>133183.0</td>\n",
       "      <td>...</td>\n",
       "      <td>36875.0</td>\n",
       "      <td>233942.0</td>\n",
       "      <td>9250.0</td>\n",
       "      <td>54371.0</td>\n",
       "      <td>1331.0</td>\n",
       "      <td>18904.0</td>\n",
       "      <td>12821.0</td>\n",
       "      <td>9431.0</td>\n",
       "      <td>1020.0</td>\n",
       "      <td>1924600.0</td>\n",
       "    </tr>\n",
       "  </tbody>\n",
       "</table>\n",
       "<p>12 rows × 52 columns</p>\n",
       "</div>"
      ],
      "text/plain": [
       "StateCode       AK       AL       AR        AZ        CA       CO       CT  \\\n",
       "Date                                                                         \n",
       "2020-03-31     0.0   1003.0    376.0       0.0    5863.0   2980.0   2313.0   \n",
       "2020-04-30   386.0  10802.0   2542.0   11575.0  121601.0  26346.0  48061.0   \n",
       "2020-05-31   379.0  15613.0   2542.0   24709.0  140092.0  20184.0  32074.0   \n",
       "2020-06-30   422.0  19051.0   6297.0   50850.0  145279.0   8405.0   6792.0   \n",
       "2020-07-31   952.0  40362.0  13168.0   95275.0  249725.0  10680.0   2283.0   \n",
       "2020-08-31  1281.0  39761.0  14869.0   41750.0  197668.0   8425.0   1805.0   \n",
       "2020-09-30  1257.0  23902.0  12579.0   17528.0  114540.0   7169.0   2023.0   \n",
       "2020-10-31  1800.0  26504.0  17974.0   22918.0   95700.0  14659.0   6027.0   \n",
       "2020-11-30  3838.0  37704.0  25244.0   48539.0  151325.0  42652.0  20776.0   \n",
       "2020-12-31  4053.0  71419.0  33558.0  114172.0  481266.0  47111.0  36984.0   \n",
       "2021-01-31  2127.0  81749.0  37350.0  142421.0  637255.0  26355.0  33641.0   \n",
       "2021-02-28  1101.0  33150.0  18855.0   63442.0  278992.0  13656.0  18493.0   \n",
       "\n",
       "StateCode        DC       DE        FL  ...       TN        TX       UT  \\\n",
       "Date                                    ...                               \n",
       "2020-03-31      0.0    205.0       0.0  ...      9.0     196.0      0.0   \n",
       "2020-04-30   5371.0   6298.0       0.0  ...  16568.0   38829.0      0.0   \n",
       "2020-05-31  10662.0   7599.0       0.0  ...  16870.0   51825.0   3883.0   \n",
       "2020-06-30   6197.0   2982.0       0.0  ...  19111.0   93101.0   6431.0   \n",
       "2020-07-31   2882.0   1758.0  191410.0  ...  38915.0  304166.0   7563.0   \n",
       "2020-08-31   2610.0   1286.0  180539.0  ...  37477.0  199705.0   5808.0   \n",
       "2020-09-30   2667.0   1808.0   79467.0  ...  27773.0  103272.0   5120.0   \n",
       "2020-10-31   2919.0   3071.0   66572.0  ...  38242.0  133736.0   8840.0   \n",
       "2020-11-30   3470.0   4448.0   96465.0  ...  61089.0  219546.0  15045.0   \n",
       "2020-12-31   6896.0  11544.0  158099.0  ...  92680.0  306178.0  17860.0   \n",
       "2021-01-31   8184.0  13027.0  219573.0  ...  88109.0  409651.0  17835.0   \n",
       "2021-02-28   5986.0   6331.0  133183.0  ...  36875.0  233942.0   9250.0   \n",
       "\n",
       "StateCode        VA      VT       WA       WI       WV      WY    USTotal  \n",
       "Date                                                                       \n",
       "2020-03-31      0.0    21.0      0.0      0.0      0.0     0.0    97035.0  \n",
       "2020-04-30  28944.0  1158.0  14995.0  10386.0   1880.0   238.0  1508083.0  \n",
       "2020-05-31  46156.0   580.0  14999.0  11441.0   1611.0   337.0  1371778.0  \n",
       "2020-06-30  30211.0   397.0  11955.0   8612.0    811.0   188.0   923715.0  \n",
       "2020-07-31  33757.0   533.0  14866.0   8410.0   1985.0   420.0  1604940.0  \n",
       "2020-08-31  37704.0   371.0  15109.0  10586.0   4060.0   494.0  1378711.0  \n",
       "2020-09-30  30205.0   100.0  11595.0  12003.0   4749.0   506.0   922622.0  \n",
       "2020-10-31  30518.0    79.0  12066.0  33205.0   5846.0  2016.0  1160606.0  \n",
       "2020-11-30  40029.0   481.0  21327.0  58301.0  11440.0  5705.0  2150388.0  \n",
       "2020-12-31  69942.0   863.0  35394.0  43445.0  21705.0  5477.0  3448860.0  \n",
       "2021-01-31  91228.0  1454.0  32012.0  28341.0  21212.0  2703.0  3732111.0  \n",
       "2021-02-28  54371.0  1331.0  18904.0  12821.0   9431.0  1020.0  1924600.0  \n",
       "\n",
       "[12 rows x 52 columns]"
      ]
     },
     "execution_count": 39,
     "metadata": {},
     "output_type": "execute_result"
    }
   ],
   "source": [
    "# Check if your code works\n",
    "hospital_days"
   ]
  },
  {
   "cell_type": "code",
   "execution_count": 40,
   "metadata": {
    "deletable": false,
    "editable": false
   },
   "outputs": [
    {
     "data": {
      "text/html": [
       "\n",
       "    <p><strong>q9</strong> passed!</p>\n",
       "    "
      ],
      "text/plain": [
       "q9 passed!"
      ]
     },
     "execution_count": 40,
     "metadata": {},
     "output_type": "execute_result"
    }
   ],
   "source": [
    "grader.check(\"q9\")"
   ]
  },
  {
   "cell_type": "code",
   "execution_count": null,
   "metadata": {},
   "outputs": [],
   "source": []
  },
  {
   "cell_type": "markdown",
   "metadata": {
    "deletable": false,
    "editable": false
   },
   "source": [
    "---\n",
    "\n",
    "To double-check your work, the cell below will rerun all of the autograder tests."
   ]
  },
  {
   "cell_type": "code",
   "execution_count": 63,
   "metadata": {
    "deletable": false,
    "editable": false
   },
   "outputs": [
    {
     "data": {
      "text/html": [
       "\n",
       "    <p><strong>q1</strong> passed!</p>\n",
       "    \n",
       "\n",
       "\n",
       "    <p><strong>q2</strong> passed!</p>\n",
       "    \n",
       "\n",
       "\n",
       "    <p><strong>q3</strong> passed!</p>\n",
       "    \n",
       "\n",
       "\n",
       "    <p><strong>q4</strong> passed!</p>\n",
       "    \n",
       "\n",
       "\n",
       "    <p><strong style='color: red;'>q5</strong></p>\n",
       "    <p><strong>Test result:</strong></p>\n",
       "    \n",
       "        <p><em>q5 - 1</em>\n",
       "        \n",
       "            <pre>Test case passed!</pre>\n",
       "        \n",
       "        </p>\n",
       "    \n",
       "        <p><em>q5 - 2</em>\n",
       "        \n",
       "            <pre>Test case passed!</pre>\n",
       "        \n",
       "        </p>\n",
       "    \n",
       "        <p><em>q5 - 3</em>\n",
       "        \n",
       "            <pre>Trying:\n",
       "    (covid.columns.values==['Date', 'StateCode', 'StateName', 'Pop', 'NewDeath', 'HospNow','NewCase', 'NewTest']).all()\n",
       "Expecting:\n",
       "    True\n",
       "<doctest q5 2[0]>:1: FutureWarning: elementwise comparison failed; returning scalar instead, but in the future will perform elementwise comparison\n",
       "  (covid.columns.values==['Date', 'StateCode', 'StateName', 'Pop', 'NewDeath', 'HospNow','NewCase', 'NewTest']).all()\n",
       "**********************************************************************\n",
       "Line 1, in q5 2\n",
       "Failed example:\n",
       "    (covid.columns.values==['Date', 'StateCode', 'StateName', 'Pop', 'NewDeath', 'HospNow','NewCase', 'NewTest']).all()\n",
       "Exception raised:\n",
       "    Traceback (most recent call last):\n",
       "      File \"C:\\Users\\chris\\anaconda3\\lib\\doctest.py\", line 1336, in __run\n",
       "        exec(compile(example.source, filename, \"single\",\n",
       "      File \"<doctest q5 2[0]>\", line 1, in <module>\n",
       "        (covid.columns.values==['Date', 'StateCode', 'StateName', 'Pop', 'NewDeath', 'HospNow','NewCase', 'NewTest']).all()\n",
       "    AttributeError: 'bool' object has no attribute 'all'\n",
       "</pre>\n",
       "        \n",
       "        </p>\n",
       "    \n",
       "    \n",
       "\n",
       "\n",
       "    <p><strong>q6</strong> passed!</p>\n",
       "    \n",
       "\n",
       "\n",
       "    <p><strong>q7</strong> passed!</p>\n",
       "    \n",
       "\n",
       "\n",
       "    <p><strong>q8</strong> passed!</p>\n",
       "    \n",
       "\n",
       "\n",
       "    <p><strong>q9</strong> passed!</p>\n",
       "    \n",
       "\n"
      ],
      "text/plain": [
       "q1 passed!\n",
       "\n",
       "q2 passed!\n",
       "\n",
       "q3 passed!\n",
       "\n",
       "q4 passed!\n",
       "\n",
       "q5 results:\n",
       "\n",
       "Trying:\n",
       "    (covid.columns.values==['Date', 'StateCode', 'StateName', 'Pop', 'NewDeath', 'HospNow','NewCase', 'NewTest']).all()\n",
       "Expecting:\n",
       "    True\n",
       "<doctest q5 2[0]>:1: FutureWarning: elementwise comparison failed; returning scalar instead, but in the future will perform elementwise comparison\n",
       "  (covid.columns.values==['Date', 'StateCode', 'StateName', 'Pop', 'NewDeath', 'HospNow','NewCase', 'NewTest']).all()\n",
       "**********************************************************************\n",
       "Line 1, in q5 2\n",
       "Failed example:\n",
       "    (covid.columns.values==['Date', 'StateCode', 'StateName', 'Pop', 'NewDeath', 'HospNow','NewCase', 'NewTest']).all()\n",
       "Exception raised:\n",
       "    Traceback (most recent call last):\n",
       "      File \"C:\\Users\\chris\\anaconda3\\lib\\doctest.py\", line 1336, in __run\n",
       "        exec(compile(example.source, filename, \"single\",\n",
       "      File \"<doctest q5 2[0]>\", line 1, in <module>\n",
       "        (covid.columns.values==['Date', 'StateCode', 'StateName', 'Pop', 'NewDeath', 'HospNow','NewCase', 'NewTest']).all()\n",
       "    AttributeError: 'bool' object has no attribute 'all'\n",
       "\n",
       "\n",
       "q6 passed!\n",
       "\n",
       "q7 passed!\n",
       "\n",
       "q8 passed!\n",
       "\n",
       "q9 passed!\n"
      ]
     },
     "execution_count": 63,
     "metadata": {},
     "output_type": "execute_result"
    }
   ],
   "source": [
    "grader.check_all()"
   ]
  },
  {
   "cell_type": "markdown",
   "metadata": {
    "deletable": false,
    "editable": false
   },
   "source": [
    "## Submission\n",
    "\n",
    "Make sure you have run all cells in your notebook in order before running the cell below, so that all images/graphs appear in the output. The cell below will generate a zip file for you to submit. **Please save before exporting!**\n",
    "\n",
    "Write your codes directly on this notebook. Upload this 'hw6.ipynb' to [Gradescope](https://www.gradescope.com)"
   ]
  },
  {
   "cell_type": "code",
   "execution_count": null,
   "metadata": {
    "deletable": false,
    "editable": false
   },
   "outputs": [],
   "source": [
    "# Save your notebook first, then run this cell to export your submission.\n",
    "grader.export()"
   ]
  },
  {
   "cell_type": "markdown",
   "metadata": {},
   "source": [
    " "
   ]
  }
 ],
 "metadata": {
  "kernelspec": {
   "display_name": "Python 3",
   "language": "python",
   "name": "python3"
  },
  "language_info": {
   "codemirror_mode": {
    "name": "ipython",
    "version": 3
   },
   "file_extension": ".py",
   "mimetype": "text/x-python",
   "name": "python",
   "nbconvert_exporter": "python",
   "pygments_lexer": "ipython3",
   "version": "3.8.5"
  },
  "varInspector": {
   "cols": {
    "lenName": 16,
    "lenType": 16,
    "lenVar": 40
   },
   "kernels_config": {
    "python": {
     "delete_cmd_postfix": "",
     "delete_cmd_prefix": "del ",
     "library": "var_list.py",
     "varRefreshCmd": "print(var_dic_list())"
    },
    "r": {
     "delete_cmd_postfix": ") ",
     "delete_cmd_prefix": "rm(",
     "library": "var_list.r",
     "varRefreshCmd": "cat(var_dic_list()) "
    }
   },
   "types_to_exclude": [
    "module",
    "function",
    "builtin_function_or_method",
    "instance",
    "_Feature"
   ],
   "window_display": false
  }
 },
 "nbformat": 4,
 "nbformat_minor": 4
}
